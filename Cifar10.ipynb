{
 "cells": [
  {
   "cell_type": "markdown",
   "metadata": {},
   "source": [
    "# Self-Driving Car Engineer Nanodegree\n",
    "\n",
    "## Deep Learning\n",
    "\n",
    "## Project: Build a Traffic Sign Recognition Classifier\n",
    "\n",
    "In this notebook, a template is provided for you to implement your functionality in stages, which is required to successfully complete this project. If additional code is required that cannot be included in the notebook, be sure that the Python code is successfully imported and included in your submission if necessary. \n",
    "\n",
    "> **Note**: Once you have completed all of the code implementations, you need to finalize your work by exporting the iPython Notebook as an HTML document. Before exporting the notebook to html, all of the code cells need to have been run so that reviewers can see the final implementation and output. You can then export the notebook by using the menu above and navigating to  \\n\",\n",
    "    \"**File -> Download as -> HTML (.html)**. Include the finished document along with this notebook as your submission. \n",
    "\n",
    "In addition to implementing code, there is a writeup to complete. The writeup should be completed in a separate file, which can be either a markdown file or a pdf document. There is a [write up template](https://github.com/udacity/CarND-Traffic-Sign-Classifier-Project/blob/master/writeup_template.md) that can be used to guide the writing process. Completing the code template and writeup template will cover all of the [rubric points](https://review.udacity.com/#!/rubrics/481/view) for this project.\n",
    "\n",
    "The [rubric](https://review.udacity.com/#!/rubrics/481/view) contains \"Stand Out Suggestions\" for enhancing the project beyond the minimum requirements. The stand out suggestions are optional. If you decide to pursue the \"stand out suggestions\", you can include the code in this Ipython notebook and also discuss the results in the writeup file.\n",
    "\n",
    "\n",
    ">**Note:** Code and Markdown cells can be executed using the **Shift + Enter** keyboard shortcut. In addition, Markdown cells can be edited by typically double-clicking the cell to enter edit mode."
   ]
  },
  {
   "cell_type": "markdown",
   "metadata": {},
   "source": [
    "---\n",
    "## Step 0: Load The Data"
   ]
  },
  {
   "cell_type": "markdown",
   "metadata": {
    "collapsed": true
   },
   "source": [
    "# Load pickled data\n",
    "import pickle\n",
    "\n",
    "training_file = './train.p'\n",
    "validation_file = './valid.p'\n",
    "testing_file = './test.p'\n",
    "\n",
    "with open(training_file, mode='rb') as f:\n",
    "    train = pickle.load(f)\n",
    "with open(validation_file, mode='rb') as f:\n",
    "    valid = pickle.load(f)\n",
    "with open(testing_file, mode='rb') as f:\n",
    "    test = pickle.load(f)\n",
    "    \n",
    "X_train, y_train = train['features'], train['labels']\n",
    "X_valid, y_valid = valid['features'], valid['labels']\n",
    "X_test, y_test = test['features'], test['labels']"
   ]
  },
  {
   "cell_type": "code",
   "execution_count": 1,
   "metadata": {},
   "outputs": [
    {
     "name": "stderr",
     "output_type": "stream",
     "text": [
      "Using TensorFlow backend.\n"
     ]
    }
   ],
   "source": [
    "from keras.datasets import cifar10\n",
    "\n",
    "(X_train, y_train), (X_test, y_test) = cifar10.load_data()\n",
    "# y_train.shape is 2d, (50000, 1). While Keras is smart enough to handle this\n",
    "# it's a good idea to flatten the array.\n",
    "y_train = y_train.reshape(-1)\n",
    "y_test = y_test.reshape(-1)"
   ]
  },
  {
   "cell_type": "code",
   "execution_count": 2,
   "metadata": {
    "collapsed": true
   },
   "outputs": [],
   "source": [
    "from sklearn.model_selection import train_test_split\n",
    "\n",
    "X_train, X_valid, y_train, y_valid = train_test_split(\n",
    "    X_train, y_train, test_size=0.3, random_state=42, stratify = y_train)"
   ]
  },
  {
   "cell_type": "markdown",
   "metadata": {},
   "source": [
    "---\n",
    "\n",
    "## Step 1: Dataset Summary & Exploration\n",
    "\n",
    "The pickled data is a dictionary with 4 key/value pairs:\n",
    "\n",
    "- `'features'` is a 4D array containing raw pixel data of the traffic sign images, (num examples, width, height, channels).\n",
    "- `'labels'` is a 1D array containing the label/class id of the traffic sign. The file `signnames.csv` contains id -> name mappings for each id.\n",
    "- `'sizes'` is a list containing tuples, (width, height) representing the original width and height the image.\n",
    "- `'coords'` is a list containing tuples, (x1, y1, x2, y2) representing coordinates of a bounding box around the sign in the image. **THESE COORDINATES ASSUME THE ORIGINAL IMAGE. THE PICKLED DATA CONTAINS RESIZED VERSIONS (32 by 32) OF THESE IMAGES**\n",
    "\n",
    "Complete the basic data summary below. Use python, numpy and/or pandas methods to calculate the data summary rather than hard coding the results. For example, the [pandas shape method](http://pandas.pydata.org/pandas-docs/stable/generated/pandas.DataFrame.shape.html) might be useful for calculating some of the summary results. "
   ]
  },
  {
   "cell_type": "markdown",
   "metadata": {},
   "source": [
    "### Provide a Basic Summary of the Data Set Using Python, Numpy and/or Pandas"
   ]
  },
  {
   "cell_type": "code",
   "execution_count": 3,
   "metadata": {},
   "outputs": [
    {
     "name": "stdout",
     "output_type": "stream",
     "text": [
      "Number of training examples = 35000\n",
      "Number of validation examples = 15000\n",
      "Number of testing examples = 10000\n",
      "Image data shape = (32, 32)\n",
      "Number of classes = 10\n"
     ]
    }
   ],
   "source": [
    "### Replace each question mark with the appropriate value. \n",
    "### Use python, pandas or numpy methods rather than hard coding the results\n",
    "import numpy as np\n",
    "\n",
    "# Number of training examples\n",
    "n_train = X_train.shape[0]\n",
    "\n",
    "# Number of validation examples\n",
    "n_validation = X_valid.shape[0]\n",
    "\n",
    "# Number of testing examples.\n",
    "n_test = X_test.shape[0]\n",
    "\n",
    "# What's the shape of an traffic sign image?\n",
    "image_shape = X_train.shape[1:3]\n",
    "\n",
    "# How many unique classes/labels there are in the dataset.\n",
    "n_classes = len(np.unique(y_train))\n",
    "\n",
    "print(\"Number of training examples =\", n_train)\n",
    "print(\"Number of validation examples =\", n_validation)\n",
    "print(\"Number of testing examples =\", n_test)\n",
    "print(\"Image data shape =\", image_shape)\n",
    "print(\"Number of classes =\", n_classes)"
   ]
  },
  {
   "cell_type": "markdown",
   "metadata": {},
   "source": [
    "### Include an exploratory visualization of the dataset"
   ]
  },
  {
   "cell_type": "markdown",
   "metadata": {},
   "source": [
    "Visualize the German Traffic Signs Dataset using the pickled file(s). This is open ended, suggestions include: plotting traffic sign images, plotting the count of each sign, etc. \n",
    "\n",
    "The [Matplotlib](http://matplotlib.org/) [examples](http://matplotlib.org/examples/index.html) and [gallery](http://matplotlib.org/gallery.html) pages are a great resource for doing visualizations in Python.\n",
    "\n",
    "**NOTE:** It's recommended you start with something simple first. If you wish to do more, come back to it after you've completed the rest of the sections. It can be interesting to look at the distribution of classes in the training, validation and test set. Is the distribution the same? Are there more examples of some classes than others?"
   ]
  },
  {
   "cell_type": "code",
   "execution_count": 4,
   "metadata": {},
   "outputs": [
    {
     "data": {
      "image/png": "[encoded data removed]",
      "text/plain": [
       "<matplotlib.figure.Figure at 0x7f56f728d5c0>"
      ]
     },
     "metadata": {},
     "output_type": "display_data"
    }
   ],
   "source": [
    "### Data exploration visualization code goes here.\n",
    "### Feel free to use as many code cells as needed.\n",
    "import matplotlib.pyplot as plt\n",
    "# Visualizations will be shown in the notebook.\n",
    "%matplotlib inline\n",
    "\n",
    "def show_examples(X, y):\n",
    "    \"\"\"Displays an example of each kind of traffic sign.\n",
    "    \n",
    "    Args:\n",
    "        X: features\n",
    "        y: labels\n",
    "    \"\"\"\n",
    "    plt.figure(figsize=(15,15))\n",
    "    for i in range(n_classes):\n",
    "        plt.subplot(6, 8, i + 1)\n",
    "        match_idxs = np.where(y == i)\n",
    "        picked_idx = np.random.choice(match_idxs[0], 1)\n",
    "        plt.imshow(X[picked_idx[0]])\n",
    "\n",
    "show_examples(X_train, y_train)"
   ]
  },
  {
   "cell_type": "markdown",
   "metadata": {},
   "source": [
    "* **Good:** Traffic signs appear to be centered and take up most of the image.\n",
    "* **Not so good:** Lighting conditions may be very poor."
   ]
  },
  {
   "cell_type": "code",
   "execution_count": 5,
   "metadata": {},
   "outputs": [
    {
     "data": {
      "image/png": "[encoded data removed]",
      "text/plain": [
       "<matplotlib.figure.Figure at 0x7f5705b98630>"
      ]
     },
     "metadata": {},
     "output_type": "display_data"
    }
   ],
   "source": [
    "def plot_counts(X, y):\n",
    "    \"\"\"Plots the count of each traffic sign type.\n",
    "    \n",
    "    Args:\n",
    "        X: features\n",
    "        y: labels\n",
    "    \"\"\"\n",
    "    counts = [np.size(np.where(y == i)) for i in range(n_classes)]\n",
    "    plt.bar(range(n_classes), counts)\n",
    "\n",
    "plot_counts(X_train, y_train)"
   ]
  },
  {
   "cell_type": "code",
   "execution_count": 6,
   "metadata": {},
   "outputs": [
    {
     "data": {
      "image/png": "[encoded data removed]",
      "text/plain": [
       "<matplotlib.figure.Figure at 0x7f5709edb400>"
      ]
     },
     "metadata": {},
     "output_type": "display_data"
    }
   ],
   "source": [
    "plot_counts(X_valid, y_valid)"
   ]
  },
  {
   "cell_type": "markdown",
   "metadata": {},
   "source": [
    "The distributions of traffic signs are broadly similar between the training and validation sets."
   ]
  },
  {
   "cell_type": "markdown",
   "metadata": {},
   "source": [
    "----\n",
    "\n",
    "## Step 2: Design and Test a Model Architecture\n",
    "\n",
    "Design and implement a deep learning model that learns to recognize traffic signs. Train and test your model on the [German Traffic Sign Dataset](http://benchmark.ini.rub.de/?section=gtsrb&subsection=dataset).\n",
    "\n",
    "The LeNet-5 implementation shown in the [classroom](https://classroom.udacity.com/nanodegrees/nd013/parts/fbf77062-5703-404e-b60c-95b78b2f3f9e/modules/6df7ae49-c61c-4bb2-a23e-6527e69209ec/lessons/601ae704-1035-4287-8b11-e2c2716217ad/concepts/d4aca031-508f-4e0b-b493-e7b706120f81) at the end of the CNN lesson is a solid starting point. You'll have to change the number of classes and possibly the preprocessing, but aside from that it's plug and play! \n",
    "\n",
    "With the LeNet-5 solution from the lecture, you should expect a validation set accuracy of about 0.89. To meet specifications, the validation set accuracy will need to be at least 0.93. It is possible to get an even higher accuracy, but 0.93 is the minimum for a successful project submission. \n",
    "\n",
    "There are various aspects to consider when thinking about this problem:\n",
    "\n",
    "- Neural network architecture (is the network over or underfitting?)\n",
    "- Play around preprocessing techniques (normalization, rgb to grayscale, etc)\n",
    "- Number of examples per label (some have more than others).\n",
    "- Generate fake data.\n",
    "\n",
    "Here is an example of a [published baseline model on this problem](http://yann.lecun.com/exdb/publis/pdf/sermanet-ijcnn-11.pdf). It's not required to be familiar with the approach used in the paper but, it's good practice to try to read papers like these."
   ]
  },
  {
   "cell_type": "markdown",
   "metadata": {},
   "source": [
    "### Pre-process the Data Set (normalization, grayscale, etc.)"
   ]
  },
  {
   "cell_type": "markdown",
   "metadata": {},
   "source": [
    "Minimally, the image data should be normalized so that the data has mean zero and equal variance. For image data, `(pixel - 128)/ 128` is a quick way to approximately normalize the data and can be used in this project. \n",
    "\n",
    "Other pre-processing steps are optional. You can try different techniques to see if it improves performance. \n",
    "\n",
    "Use the code cell (or multiple code cells, if necessary) to implement the first step of your project."
   ]
  },
  {
   "cell_type": "code",
   "execution_count": 7,
   "metadata": {
    "collapsed": true
   },
   "outputs": [],
   "source": [
    "### Preprocess the data here. It is required to normalize the data. Other preprocessing steps could include \n",
    "### converting to grayscale, etc.\n",
    "### Feel free to use as many code cells as needed.\n",
    "import cv2\n",
    "\n",
    "def grayscale(X):\n",
    "    \"\"\"Converts images to grayscale.\"\"\"\n",
    "    out = np.zeros(X.shape[:3])\n",
    "    for i in range(X.shape[0]):\n",
    "        out[i] = cv2.cvtColor(X[i], cv2.COLOR_BGR2GRAY)\n",
    "    return np.expand_dims(out, axis=3)\n",
    "\n",
    "def normalize(X):\n",
    "    \"\"\"Normalize the input feature ranges.\"\"\"\n",
    "    return (X - 128) / 128\n",
    "\n",
    "def show_random_results(original, adjusted, num=3):\n",
    "    \"\"\"Displays random sample of original images and adjusted images.\n",
    "    \n",
    "    Args:\n",
    "        original: original features\n",
    "        adjusted: adjusted features features\n",
    "        num: sample size to display\n",
    "    \"\"\"\n",
    "    plt.figure(figsize=(15,15))\n",
    "    sample = np.random.choice(original.shape[0], num, replace=False)\n",
    "    for i in range(num):\n",
    "        plt.subplot(num, 2, i * 2 + 1)\n",
    "        plt.imshow(original[sample[i]])\n",
    "        plt.subplot(num, 2, i * 2 + 2)\n",
    "        plt.imshow(adjusted[sample[i]][:, :, 0], cmap='gray')\n",
    "\n",
    "X_train_norm = normalize(X_train)\n",
    "X_valid_norm = normalize(X_valid)\n",
    "X_test_norm = normalize(X_test)"
   ]
  },
  {
   "cell_type": "code",
   "execution_count": 8,
   "metadata": {
    "collapsed": true
   },
   "outputs": [],
   "source": [
    "# Unused functions. Included for completeness.\n",
    "\n",
    "# As I learned after some failed experiments, value doesn't actually\n",
    "# capture \"brightness\" (i.e. intensity of light). That's grayscale's job.\n",
    "# The grayscale transform also normalizes brightness, which is convenient.\n",
    "#\n",
    "# def correct_brightness(X):\n",
    "#     \"\"\"Returns an image with value adjusted so its average is 128.\"\"\"\n",
    "#     corrected = np.zeros(X.shape, dtype=np.uint32)\n",
    "#     for i in range(X.shape[0]):\n",
    "#         cvt = np.int32(cv2.cvtColor(X[i], cv2.COLOR_BGR2HSV))\n",
    "#         mean_value = np.mean(cvt[:, :, 2])\n",
    "#         cvt[:, :, 2] = cvt[:, :, 2] - mean_value + 128\n",
    "#         # Correct value range.\n",
    "#         cvt[:, :, 2] = np.clip(cvt[:, :, 2], 0, 255)\n",
    "#         corrected[i] = cv2.cvtColor(np.uint8(cvt), cv2.COLOR_HSV2BGR)\n",
    "#     return corrected\n",
    "\n",
    "# def extract_hue(X):\n",
    "#     \"\"\"Pull hue values from images converted to HSV color space.\"\"\"\n",
    "#     out = np.zeros(X.shape[:3])\n",
    "#     out = np.expand_dims(out, axis=3)\n",
    "#     for i in range(X.shape[0]):\n",
    "#         out[i] = cv2.cvtColor(X[i], cv2.COLOR_BGR2HSV)[:, :, 0:1]\n",
    "#     return out\n",
    "#\n",
    "# def normalize_hue(X):\n",
    "#     \"\"\"Normalize hue values, which range from [0, 359].\"\"\"\n",
    "#     return (X - 180) / 180\n",
    "\n",
    "# def extract_saturation(X):\n",
    "#     \"\"\"Pull saturation values from images converted to HSV color space.\"\"\"\n",
    "#     out = np.zeros(X.shape[:3])\n",
    "#     out = np.expand_dims(out, axis=3)\n",
    "#     for i in range(X.shape[0]):\n",
    "#         out[i] = cv2.cvtColor(X[i], cv2.COLOR_BGR2HSV)[:, :, 1:2]\n",
    "#     return out"
   ]
  },
  {
   "cell_type": "markdown",
   "metadata": {},
   "source": [
    "### Model Architecture"
   ]
  },
  {
   "cell_type": "code",
   "execution_count": 9,
   "metadata": {
    "collapsed": true
   },
   "outputs": [],
   "source": [
    "# Define your architecture here.\n",
    "### Feel free to use as many code cells as needed.\n",
    "from sklearn.utils import shuffle\n",
    "import tensorflow as tf\n",
    "import time\n",
    "\n",
    "BATCH_SIZE = 128\n",
    "EPOCHS = 100\n",
    "MU = 0.0\n",
    "SIGMA = 0.1\n",
    "LR = 0.001\n",
    "NUM_CHANNELS = 3\n",
    "\n",
    "X = tf.placeholder(tf.float32, [None, 32, 32, NUM_CHANNELS])\n",
    "y = tf.placeholder(tf.int64, [None])\n",
    "\n",
    "c1_num_fmaps = 6\n",
    "c1_patch_size = 7\n",
    "W1 = tf.Variable(tf.truncated_normal(\n",
    "    [c1_patch_size, c1_patch_size, NUM_CHANNELS, c1_num_fmaps], mean=MU, stddev=SIGMA))\n",
    "b1 = tf.Variable(tf.zeros(c1_num_fmaps))\n",
    "c1 = tf.nn.conv2d(X, W1, strides=[1, 1, 1, 1], padding='VALID')\n",
    "c1 = tf.nn.bias_add(c1, b1)\n",
    "c1 = tf.nn.relu(c1)\n",
    "\n",
    "s2 = tf.nn.max_pool(c1, [1, 2, 2, 1], [1, 2, 2, 1], 'VALID')\n",
    "\n",
    "c3_num_fmaps = 16\n",
    "c3_patch_size = 7\n",
    "W3 = tf.Variable(tf.truncated_normal(\n",
    "    [c3_patch_size, c3_patch_size, c1_num_fmaps, c3_num_fmaps], mean=MU, stddev=SIGMA))\n",
    "b3 = tf.Variable(tf.zeros(c3_num_fmaps))\n",
    "c3 = tf.nn.conv2d(s2, W3, strides=[1, 1, 1, 1], padding='VALID')\n",
    "c3 = tf.nn.bias_add(c3, b3)\n",
    "c3 = tf.nn.relu(c3)\n",
    "\n",
    "s4 = tf.nn.max_pool(c3, [1, 2, 2, 1], [1, 2, 2, 1], 'VALID')\n",
    "\n",
    "flat_stage1 = tf.contrib.layers.flatten(s2)\n",
    "flat_stage2 = tf.contrib.layers.flatten(s4)\n",
    "flat = tf.concat(values=(flat_stage1, flat_stage2), concat_dim=1)\n",
    "\n",
    "W5 = tf.Variable(tf.truncated_normal([1158, 100], mean=MU, stddev=SIGMA))\n",
    "b5 = tf.Variable(tf.zeros(100))\n",
    "c5 = tf.add(tf.matmul(flat, W5), b5)\n",
    "c5 = tf.nn.relu(c5)\n",
    "\n",
    "W6 = tf.Variable(tf.truncated_normal([100, 100], mean=MU, stddev=SIGMA))\n",
    "b6 = tf.Variable(tf.zeros(100))\n",
    "f6 = tf.add(tf.matmul(c5, W6), b6)\n",
    "f6 = tf.nn.relu(f6)\n",
    "\n",
    "W7 = tf.Variable(tf.truncated_normal([100, n_classes], mean=MU, stddev=SIGMA))\n",
    "b7 = tf.Variable(tf.zeros(n_classes))\n",
    "logits = tf.add(tf.matmul(f6, W7), b7)\n",
    "preds = tf.argmax(logits, 1)\n",
    "\n",
    "ce = tf.nn.sparse_softmax_cross_entropy_with_logits(labels=y, logits=logits)\n",
    "loss_op = tf.reduce_mean(ce)\n",
    "train_op = tf.train.AdamOptimizer(LR).minimize(loss_op)\n",
    "acc_op = tf.reduce_mean(tf.cast(tf.equal(y, preds), tf.float32))"
   ]
  },
  {
   "cell_type": "markdown",
   "metadata": {},
   "source": [
    "### Train, Validate and Test the Model"
   ]
  },
  {
   "cell_type": "markdown",
   "metadata": {},
   "source": [
    "A validation set can be used to assess how well the model is performing. A low accuracy on the training and validation\n",
    "sets imply underfitting. A high accuracy on the training set but low accuracy on the validation set implies overfitting."
   ]
  },
  {
   "cell_type": "code",
   "execution_count": 11,
   "metadata": {
    "scrolled": true
   },
   "outputs": [
    {
     "name": "stdout",
     "output_type": "stream",
     "text": [
      "EPOCH   1 | time: 4.7853 | train loss: 1.8059 | train accuracy: 0.3458 | val loss: 1.8458 | val accuracy: 0.3335\n",
      "EPOCH   2 | time: 4.3656 | train loss: 1.6062 | train accuracy: 0.4294 | val loss: 1.7004 | val accuracy: 0.3837\n",
      "EPOCH   3 | time: 4.2760 | train loss: 1.4978 | train accuracy: 0.4699 | val loss: 1.6641 | val accuracy: 0.4041\n",
      "EPOCH   4 | time: 4.3574 | train loss: 1.3836 | train accuracy: 0.5138 | val loss: 1.6239 | val accuracy: 0.4207\n",
      "EPOCH   5 | time: 4.3924 | train loss: 1.3147 | train accuracy: 0.5351 | val loss: 1.6327 | val accuracy: 0.4222\n",
      "EPOCH   6 | time: 4.4111 | train loss: 1.2210 | train accuracy: 0.5742 | val loss: 1.6504 | val accuracy: 0.4287\n",
      "EPOCH   7 | time: 4.4511 | train loss: 1.1421 | train accuracy: 0.6019 | val loss: 1.6724 | val accuracy: 0.4300\n",
      "EPOCH   8 | time: 4.4530 | train loss: 1.1224 | train accuracy: 0.6123 | val loss: 1.7737 | val accuracy: 0.4057\n",
      "EPOCH   9 | time: 4.3618 | train loss: 1.0070 | train accuracy: 0.6590 | val loss: 1.7775 | val accuracy: 0.4156\n",
      "EPOCH  10 | time: 4.3554 | train loss: 0.8923 | train accuracy: 0.6951 | val loss: 1.8245 | val accuracy: 0.4159\n",
      "EPOCH  11 | time: 4.3825 | train loss: 0.8201 | train accuracy: 0.7215 | val loss: 1.8947 | val accuracy: 0.4139\n",
      "EPOCH  12 | time: 4.3891 | train loss: 0.7167 | train accuracy: 0.7679 | val loss: 1.9608 | val accuracy: 0.4169\n",
      "EPOCH  13 | time: 4.4202 | train loss: 0.6653 | train accuracy: 0.7812 | val loss: 2.0522 | val accuracy: 0.4132\n",
      "EPOCH  14 | time: 4.4494 | train loss: 0.6116 | train accuracy: 0.8004 | val loss: 2.1779 | val accuracy: 0.4027\n",
      "EPOCH  15 | time: 4.4395 | train loss: 0.5499 | train accuracy: 0.8226 | val loss: 2.3422 | val accuracy: 0.3989\n",
      "EPOCH  16 | time: 4.4165 | train loss: 0.4877 | train accuracy: 0.8447 | val loss: 2.4255 | val accuracy: 0.4023\n",
      "EPOCH  17 | time: 4.3791 | train loss: 0.4699 | train accuracy: 0.8486 | val loss: 2.6284 | val accuracy: 0.3895\n",
      "EPOCH  18 | time: 4.3823 | train loss: 0.3766 | train accuracy: 0.8845 | val loss: 2.7223 | val accuracy: 0.3929\n",
      "EPOCH  19 | time: 4.3726 | train loss: 0.3778 | train accuracy: 0.8814 | val loss: 2.8752 | val accuracy: 0.3966\n",
      "EPOCH  20 | time: 4.4518 | train loss: 0.3089 | train accuracy: 0.9057 | val loss: 3.1535 | val accuracy: 0.3850\n",
      "EPOCH  21 | time: 4.4569 | train loss: 0.2660 | train accuracy: 0.9207 | val loss: 3.2968 | val accuracy: 0.3914\n",
      "EPOCH  22 | time: 4.4154 | train loss: 0.2551 | train accuracy: 0.9229 | val loss: 3.4389 | val accuracy: 0.3831\n",
      "EPOCH  23 | time: 4.3771 | train loss: 0.3528 | train accuracy: 0.8752 | val loss: 3.8925 | val accuracy: 0.3740\n",
      "EPOCH  24 | time: 4.3755 | train loss: 0.2307 | train accuracy: 0.9264 | val loss: 3.8306 | val accuracy: 0.3805\n",
      "EPOCH  25 | time: 4.3935 | train loss: 0.1717 | train accuracy: 0.9506 | val loss: 4.0927 | val accuracy: 0.3811\n",
      "EPOCH  26 | time: 4.3935 | train loss: 0.1763 | train accuracy: 0.9464 | val loss: 4.3036 | val accuracy: 0.3769\n",
      "EPOCH  27 | time: 4.4709 | train loss: 0.1416 | train accuracy: 0.9596 | val loss: 4.5031 | val accuracy: 0.3774\n",
      "EPOCH  28 | time: 4.4548 | train loss: 0.1473 | train accuracy: 0.9559 | val loss: 4.6340 | val accuracy: 0.3835\n",
      "EPOCH  29 | time: 4.4325 | train loss: 0.1579 | train accuracy: 0.9482 | val loss: 4.8413 | val accuracy: 0.3690\n",
      "EPOCH  30 | time: 4.3689 | train loss: 0.1372 | train accuracy: 0.9565 | val loss: 5.0065 | val accuracy: 0.3766\n",
      "EPOCH  31 | time: 4.3830 | train loss: 0.1585 | train accuracy: 0.9453 | val loss: 5.1030 | val accuracy: 0.3821\n",
      "EPOCH  32 | time: 4.3787 | train loss: 0.0704 | train accuracy: 0.9831 | val loss: 5.2943 | val accuracy: 0.3775\n",
      "EPOCH  33 | time: 4.2737 | train loss: 0.0783 | train accuracy: 0.9793 | val loss: 5.3497 | val accuracy: 0.3820\n",
      "EPOCH  34 | time: 4.2627 | train loss: 0.1583 | train accuracy: 0.9461 | val loss: 5.6423 | val accuracy: 0.3746\n",
      "EPOCH  35 | time: 4.2734 | train loss: 0.2081 | train accuracy: 0.9270 | val loss: 5.3341 | val accuracy: 0.3710\n",
      "EPOCH  36 | time: 4.3573 | train loss: 0.0906 | train accuracy: 0.9720 | val loss: 5.5865 | val accuracy: 0.3854\n",
      "EPOCH  37 | time: 4.4699 | train loss: 0.0532 | train accuracy: 0.9875 | val loss: 5.8588 | val accuracy: 0.3827\n",
      "EPOCH  38 | time: 4.4219 | train loss: 0.0557 | train accuracy: 0.9866 | val loss: 5.9046 | val accuracy: 0.3782\n",
      "EPOCH  39 | time: 4.3672 | train loss: 0.0826 | train accuracy: 0.9737 | val loss: 6.4290 | val accuracy: 0.3776\n",
      "EPOCH  40 | time: 4.2971 | train loss: 0.1112 | train accuracy: 0.9632 | val loss: 6.0446 | val accuracy: 0.3716\n",
      "EPOCH  41 | time: 4.2599 | train loss: 0.1802 | train accuracy: 0.9363 | val loss: 6.3449 | val accuracy: 0.3817\n",
      "EPOCH  42 | time: 4.3760 | train loss: 0.0613 | train accuracy: 0.9821 | val loss: 6.3443 | val accuracy: 0.3775\n",
      "EPOCH  43 | time: 4.4386 | train loss: 0.0618 | train accuracy: 0.9813 | val loss: 6.5575 | val accuracy: 0.3781\n",
      "EPOCH  44 | time: 4.4287 | train loss: 0.0976 | train accuracy: 0.9683 | val loss: 6.8643 | val accuracy: 0.3644\n",
      "EPOCH  45 | time: 4.4218 | train loss: 0.0930 | train accuracy: 0.9688 | val loss: 6.9021 | val accuracy: 0.3766\n",
      "EPOCH  46 | time: 4.2971 | train loss: 0.0898 | train accuracy: 0.9691 | val loss: 6.8021 | val accuracy: 0.3652\n",
      "EPOCH  47 | time: 4.2716 | train loss: 0.0572 | train accuracy: 0.9823 | val loss: 6.7929 | val accuracy: 0.3753\n",
      "EPOCH  48 | time: 4.2687 | train loss: 0.0644 | train accuracy: 0.9793 | val loss: 6.9843 | val accuracy: 0.3687\n",
      "EPOCH  49 | time: 4.2694 | train loss: 0.0567 | train accuracy: 0.9826 | val loss: 7.1098 | val accuracy: 0.3685\n",
      "EPOCH  50 | time: 4.2687 | train loss: 0.0935 | train accuracy: 0.9691 | val loss: 7.0599 | val accuracy: 0.3703\n",
      "EPOCH  51 | time: 4.2668 | train loss: 0.1617 | train accuracy: 0.9438 | val loss: 7.4082 | val accuracy: 0.3713\n",
      "EPOCH  52 | time: 4.3536 | train loss: 0.0925 | train accuracy: 0.9695 | val loss: 7.3333 | val accuracy: 0.3751\n",
      "EPOCH  53 | time: 4.3343 | train loss: 0.0937 | train accuracy: 0.9682 | val loss: 7.7231 | val accuracy: 0.3672\n",
      "EPOCH  54 | time: 4.2625 | train loss: 0.0591 | train accuracy: 0.9813 | val loss: 7.3754 | val accuracy: 0.3694\n",
      "EPOCH  55 | time: 4.3686 | train loss: 0.0896 | train accuracy: 0.9696 | val loss: 7.5279 | val accuracy: 0.3602\n",
      "EPOCH  56 | time: 4.2785 | train loss: 0.0879 | train accuracy: 0.9709 | val loss: 7.5987 | val accuracy: 0.3709\n",
      "EPOCH  57 | time: 4.2552 | train loss: 0.0558 | train accuracy: 0.9821 | val loss: 7.8250 | val accuracy: 0.3667\n",
      "EPOCH  58 | time: 4.2577 | train loss: 0.0516 | train accuracy: 0.9834 | val loss: 7.7082 | val accuracy: 0.3717\n",
      "EPOCH  59 | time: 4.2631 | train loss: 0.0677 | train accuracy: 0.9765 | val loss: 7.7654 | val accuracy: 0.3743\n",
      "EPOCH  60 | time: 4.2588 | train loss: 0.0638 | train accuracy: 0.9787 | val loss: 8.1939 | val accuracy: 0.3743\n",
      "EPOCH  61 | time: 4.2708 | train loss: 0.0992 | train accuracy: 0.9665 | val loss: 7.9986 | val accuracy: 0.3740\n",
      "EPOCH  62 | time: 4.2770 | train loss: 0.0821 | train accuracy: 0.9728 | val loss: 8.0513 | val accuracy: 0.3734\n",
      "EPOCH  63 | time: 4.3791 | train loss: 0.0642 | train accuracy: 0.9782 | val loss: 8.0274 | val accuracy: 0.3647\n",
      "EPOCH  64 | time: 4.3144 | train loss: 0.0808 | train accuracy: 0.9725 | val loss: 8.3770 | val accuracy: 0.3643\n",
      "EPOCH  65 | time: 4.3481 | train loss: 0.0653 | train accuracy: 0.9800 | val loss: 8.0662 | val accuracy: 0.3703\n",
      "EPOCH  66 | time: 4.3631 | train loss: 0.0691 | train accuracy: 0.9760 | val loss: 8.1792 | val accuracy: 0.3719\n",
      "EPOCH  67 | time: 4.4157 | train loss: 0.0319 | train accuracy: 0.9905 | val loss: 8.3987 | val accuracy: 0.3656\n",
      "EPOCH  68 | time: 4.4412 | train loss: 0.0373 | train accuracy: 0.9889 | val loss: 8.4227 | val accuracy: 0.3641\n",
      "EPOCH  69 | time: 4.3803 | train loss: 0.0909 | train accuracy: 0.9693 | val loss: 8.7645 | val accuracy: 0.3617\n",
      "EPOCH  70 | time: 4.2697 | train loss: 0.0704 | train accuracy: 0.9763 | val loss: 8.4609 | val accuracy: 0.3648\n",
      "EPOCH  71 | time: 4.3836 | train loss: 0.0535 | train accuracy: 0.9825 | val loss: 8.4138 | val accuracy: 0.3734\n",
      "EPOCH  72 | time: 4.3924 | train loss: 0.0843 | train accuracy: 0.9719 | val loss: 8.7281 | val accuracy: 0.3648\n",
      "EPOCH  73 | time: 4.3751 | train loss: 0.0419 | train accuracy: 0.9859 | val loss: 8.6765 | val accuracy: 0.3689\n"
     ]
    },
    {
     "name": "stdout",
     "output_type": "stream",
     "text": [
      "EPOCH  74 | time: 4.3690 | train loss: 0.0276 | train accuracy: 0.9916 | val loss: 8.8035 | val accuracy: 0.3759\n",
      "EPOCH  75 | time: 4.3898 | train loss: 0.0433 | train accuracy: 0.9853 | val loss: 8.6973 | val accuracy: 0.3723\n",
      "EPOCH  76 | time: 4.4223 | train loss: 0.0567 | train accuracy: 0.9811 | val loss: 9.0238 | val accuracy: 0.3663\n",
      "EPOCH  77 | time: 4.4501 | train loss: 0.0532 | train accuracy: 0.9829 | val loss: 8.7613 | val accuracy: 0.3660\n",
      "EPOCH  78 | time: 4.4415 | train loss: 0.0858 | train accuracy: 0.9725 | val loss: 9.1217 | val accuracy: 0.3732\n",
      "EPOCH  79 | time: 4.3924 | train loss: 0.0438 | train accuracy: 0.9854 | val loss: 9.1227 | val accuracy: 0.3721\n",
      "EPOCH  80 | time: 4.3773 | train loss: 0.0367 | train accuracy: 0.9879 | val loss: 8.9277 | val accuracy: 0.3773\n",
      "EPOCH  81 | time: 4.4002 | train loss: 0.1233 | train accuracy: 0.9597 | val loss: 9.1325 | val accuracy: 0.3651\n",
      "EPOCH  82 | time: 4.3928 | train loss: 0.0927 | train accuracy: 0.9682 | val loss: 9.0055 | val accuracy: 0.3749\n",
      "EPOCH  83 | time: 4.4150 | train loss: 0.1107 | train accuracy: 0.9653 | val loss: 8.8715 | val accuracy: 0.3644\n",
      "EPOCH  84 | time: 4.4364 | train loss: 0.0873 | train accuracy: 0.9723 | val loss: 9.2925 | val accuracy: 0.3706\n",
      "EPOCH  85 | time: 4.4225 | train loss: 0.0431 | train accuracy: 0.9850 | val loss: 9.3500 | val accuracy: 0.3580\n",
      "EPOCH  86 | time: 4.3228 | train loss: 0.0338 | train accuracy: 0.9895 | val loss: 9.3418 | val accuracy: 0.3667\n",
      "EPOCH  87 | time: 4.3595 | train loss: 0.0623 | train accuracy: 0.9787 | val loss: 9.4701 | val accuracy: 0.3612\n",
      "EPOCH  88 | time: 4.2804 | train loss: 0.0587 | train accuracy: 0.9825 | val loss: 9.5729 | val accuracy: 0.3594\n",
      "EPOCH  89 | time: 4.3671 | train loss: 0.1838 | train accuracy: 0.9447 | val loss: 9.4932 | val accuracy: 0.3608\n",
      "EPOCH  90 | time: 4.2623 | train loss: 0.0746 | train accuracy: 0.9747 | val loss: 9.2700 | val accuracy: 0.3690\n",
      "EPOCH  91 | time: 4.2719 | train loss: 0.0311 | train accuracy: 0.9903 | val loss: 9.5824 | val accuracy: 0.3645\n",
      "EPOCH  92 | time: 4.2546 | train loss: 0.0516 | train accuracy: 0.9828 | val loss: 9.6291 | val accuracy: 0.3619\n",
      "EPOCH  93 | time: 4.2664 | train loss: 0.0433 | train accuracy: 0.9858 | val loss: 9.4616 | val accuracy: 0.3687\n",
      "EPOCH  94 | time: 4.3471 | train loss: 0.0834 | train accuracy: 0.9756 | val loss: 9.9268 | val accuracy: 0.3623\n",
      "EPOCH  95 | time: 4.3132 | train loss: 0.0335 | train accuracy: 0.9895 | val loss: 9.5635 | val accuracy: 0.3693\n",
      "EPOCH  96 | time: 4.3726 | train loss: 0.1508 | train accuracy: 0.9528 | val loss: 9.6615 | val accuracy: 0.3590\n",
      "EPOCH  97 | time: 4.2743 | train loss: 0.0279 | train accuracy: 0.9915 | val loss: 9.7822 | val accuracy: 0.3696\n",
      "EPOCH  98 | time: 4.2575 | train loss: 0.0568 | train accuracy: 0.9808 | val loss: 9.7930 | val accuracy: 0.3655\n",
      "EPOCH  99 | time: 4.2572 | train loss: 0.0367 | train accuracy: 0.9883 | val loss: 9.8593 | val accuracy: 0.3635\n",
      "EPOCH 100 | time: 4.2539 | train loss: 0.0992 | train accuracy: 0.9691 | val loss: 9.7782 | val accuracy: 0.3658\n"
     ]
    }
   ],
   "source": [
    "### Train your model here.\n",
    "### Calculate and report the accuracy on the training and validation set.\n",
    "### Once a final model architecture is selected, \n",
    "### the accuracy on the test set should be calculated and reported as well.\n",
    "### Feel free to use as many code cells as needed.\n",
    "\n",
    "def downsample(X, y):\n",
    "    \"\"\"Creates a data set by randomly selecting (without replacement)\n",
    "    examples to match the size of the smallest class.\n",
    "\n",
    "    Args:\n",
    "        X: features\n",
    "        y: labels\n",
    "    \"\"\"\n",
    "    class_sizes = [np.size(np.where(y_train == i)) for i in range(n_classes)]\n",
    "    least_freq = np.min(class_sizes)\n",
    "    X_samples = np.zeros([n_classes * least_freq, 32, 32, 1])\n",
    "    y_samples = np.zeros([n_classes * least_freq])\n",
    "\n",
    "    for i in range(n_classes):\n",
    "        match_idxs = np.where(y_train == i)\n",
    "        diff = least_freq - np.size(match_idxs)\n",
    "        if diff < 0:\n",
    "            # Class is too large; take a sample.\n",
    "            picked_idxs = np.random.choice(match_idxs[0], least_freq, replace=False)\n",
    "            X_samples[i * least_freq:(i + 1) * least_freq] = X[picked_idxs]  \n",
    "            y_samples[i * least_freq:(i + 1) * least_freq] = y[picked_idxs]\n",
    "        else:\n",
    "            # This is the smallest class; copy examples.\n",
    "            X_samples[i * least_freq:(i + 1) * least_freq] = X[match_idxs]\n",
    "            y_samples[i * least_freq:(i + 1) * least_freq] = y[match_idxs]\n",
    "\n",
    "    return X_samples, y_samples\n",
    "\n",
    "# This following is adapted from the AlexNet lab\n",
    "# (CarND-Alexnet-Feature-Extraction/train_feature_extractor.py).\n",
    "\n",
    "def compute_metrics(sess, features, labels, size):\n",
    "    \"\"\"Compute loss and accuracy for the given data set.\n",
    "    \n",
    "    Args:\n",
    "        sess: Tensorflow session where model to be evaluated was trained\n",
    "        features: data set features\n",
    "        labels: data set labels\n",
    "        size: number of examples the data set\n",
    "\n",
    "    Returns:\n",
    "        average loss per example, accuracy\n",
    "    \"\"\"\n",
    "    total_loss = 0.0\n",
    "    total_acc = 0.0\n",
    "    for offset in range(0, size, BATCH_SIZE):\n",
    "        end = offset + BATCH_SIZE\n",
    "        num_in_batch = BATCH_SIZE\n",
    "        if end > size:\n",
    "            end = size\n",
    "            num_in_batch = end - offset\n",
    "        batch_loss, batch_acc = sess.run([loss_op, acc_op],\n",
    "                                         feed_dict={X: features[offset:end],\n",
    "                                                    y: labels[offset:end]})\n",
    "        total_loss += num_in_batch * batch_loss\n",
    "        total_acc += num_in_batch * batch_acc\n",
    "    return total_loss / size, total_acc / size\n",
    "\n",
    "# Training code.\n",
    "sess = tf.Session()\n",
    "sess.run(tf.global_variables_initializer())\n",
    "\n",
    "for i in range(EPOCHS):\n",
    "    X_train_norm, y_train = shuffle(X_train_norm, y_train)\n",
    "    t0 = time.time()\n",
    "    for offset in range(0, len(y_train), BATCH_SIZE):\n",
    "        end = offset + BATCH_SIZE\n",
    "        sess.run(train_op, feed_dict={X: X_train_norm[offset:end],\n",
    "                                      y: y_train[offset:end]})\n",
    "\n",
    "    train_loss, train_acc = compute_metrics(sess, X_train_norm, y_train, n_train)\n",
    "    val_loss, val_acc = compute_metrics(sess, X_valid_norm, y_valid, n_validation)\n",
    "        \n",
    "    print(('EPOCH {:3d} | time: {:05.4f} | train loss: {:05.4f} '\n",
    "           '| train accuracy: {:05.4f} | val loss: {:05.4f} '\n",
    "           '| val accuracy: {:05.4f}'.format(\n",
    "        i + 1, (time.time() - t0), train_loss, train_acc, val_loss, val_acc)))"
   ]
  },
  {
   "cell_type": "code",
   "execution_count": 12,
   "metadata": {},
   "outputs": [
    {
     "name": "stdout",
     "output_type": "stream",
     "text": [
      "FINAL RESULTS | test loss: 9.6870 | test accuracy: 0.3670\n"
     ]
    }
   ],
   "source": [
    "test_loss, test_acc = compute_metrics(sess, X_test_norm, y_test, n_test)\n",
    "print('FINAL RESULTS | test loss: {:05.4f} | test accuracy: {:05.4f}'.format(\n",
    "        test_loss, test_acc))"
   ]
  },
  {
   "cell_type": "markdown",
   "metadata": {},
   "source": [
    "---\n",
    "\n",
    "## Step 3: Test a Model on New Images\n",
    "\n",
    "To give yourself more insight into how your model is working, download at least five pictures of German traffic signs from the web and use your model to predict the traffic sign type.\n",
    "\n",
    "You may find `signnames.csv` useful as it contains mappings from the class id (integer) to the actual sign name."
   ]
  },
  {
   "cell_type": "markdown",
   "metadata": {},
   "source": [
    "### Load and Output the Images"
   ]
  },
  {
   "cell_type": "code",
   "execution_count": null,
   "metadata": {},
   "outputs": [],
   "source": [
    "### Load the images and plot them here.\n",
    "### Feel free to use as many code cells as needed.\n",
    "import matplotlib.image as mpimg\n",
    "\n",
    "def resize_and_grayscale(img_path):\n",
    "    \"\"\"Plots original & resized and grayscaled image; returns transformed image.\"\"\"\n",
    "    orig = mpimg.imread(img_path)\n",
    "    small = cv2.resize(orig, (32, 32))\n",
    "    small = np.expand_dims(small, axis=0)\n",
    "    gray = grayscale(small)\n",
    "    plt.figure(figsize=(15,15))\n",
    "    plt.subplot(121)\n",
    "    plt.imshow(orig)\n",
    "    plt.subplot(122)\n",
    "    plt.imshow(gray[0, :, :, 0], cmap='gray')\n",
    "    return gray\n",
    "\n",
    "no_entry_gray = resize_and_grayscale('./test_images/no_entry.jpg')"
   ]
  },
  {
   "cell_type": "code",
   "execution_count": null,
   "metadata": {},
   "outputs": [],
   "source": [
    "no_vehicles_gray = resize_and_grayscale('./test_images/no_vehicles.jpg')"
   ]
  },
  {
   "cell_type": "code",
   "execution_count": null,
   "metadata": {},
   "outputs": [],
   "source": [
    "road_work_gray = resize_and_grayscale('./test_images/road_work.jpg')"
   ]
  },
  {
   "cell_type": "code",
   "execution_count": null,
   "metadata": {},
   "outputs": [],
   "source": [
    "roundabout_gray = resize_and_grayscale('./test_images/roundabout_mandatory.jpg')"
   ]
  },
  {
   "cell_type": "code",
   "execution_count": null,
   "metadata": {},
   "outputs": [],
   "source": [
    "speed_limit_gray = resize_and_grayscale('./test_images/speed_limit_120.jpg')"
   ]
  },
  {
   "cell_type": "markdown",
   "metadata": {},
   "source": [
    "### Predict the Sign Type for Each Image"
   ]
  },
  {
   "cell_type": "code",
   "execution_count": null,
   "metadata": {},
   "outputs": [],
   "source": [
    "### Run the predictions here and use the model to output the prediction for each image.\n",
    "### Make sure to pre-process the images with the same pre-processing pipeline used earlier.\n",
    "### Feel free to use as many code cells as needed.\n",
    "\n",
    "# Package up images for batch processing.\n",
    "test_imgs = np.zeros([5, 32, 32, 1])\n",
    "test_imgs[0] = normalize(no_entry_gray)\n",
    "test_imgs[1] = normalize(no_vehicles_gray)\n",
    "test_imgs[2] = normalize(road_work_gray)\n",
    "test_imgs[3] = normalize(roundabout_gray)\n",
    "test_imgs[4] = normalize(speed_limit_gray)\n",
    "\n",
    "test_labels = np.array([17, 15, 25, 40, 8])\n",
    "\n",
    "sess.run([preds], feed_dict={X: test_imgs})"
   ]
  },
  {
   "cell_type": "markdown",
   "metadata": {},
   "source": [
    "### Analyze Performance"
   ]
  },
  {
   "cell_type": "code",
   "execution_count": null,
   "metadata": {},
   "outputs": [],
   "source": [
    "### Calculate the accuracy for these 5 new images. \n",
    "### For example, if the model predicted 1 out of 5 signs correctly, it's 20% accurate on these new images.\n",
    "sess.run([acc_op], feed_dict={X: test_imgs,\n",
    "                              y: test_labels})"
   ]
  },
  {
   "cell_type": "markdown",
   "metadata": {},
   "source": [
    "### Output Top 5 Softmax Probabilities For Each Image Found on the Web"
   ]
  },
  {
   "cell_type": "markdown",
   "metadata": {},
   "source": [
    "For each of the new images, print out the model's softmax probabilities to show the **certainty** of the model's predictions (limit the output to the top 5 probabilities for each image). [`tf.nn.top_k`](https://www.tensorflow.org/versions/r0.12/api_docs/python/nn.html#top_k) could prove helpful here. \n",
    "\n",
    "The example below demonstrates how tf.nn.top_k can be used to find the top k predictions for each image.\n",
    "\n",
    "`tf.nn.top_k` will return the values and indices (class ids) of the top k predictions. So if k=3, for each sign, it'll return the 3 largest probabilities (out of a possible 43) and the correspoding class ids.\n",
    "\n",
    "Take this numpy array as an example. The values in the array represent predictions. The array contains softmax probabilities for five candidate images with six possible classes. `tf.nn.top_k` is used to choose the three classes with the highest probability:\n",
    "\n",
    "```\n",
    "# (5, 6) array\n",
    "a = np.array([[ 0.24879643,  0.07032244,  0.12641572,  0.34763842,  0.07893497,\n",
    "         0.12789202],\n",
    "       [ 0.28086119,  0.27569815,  0.08594638,  0.0178669 ,  0.18063401,\n",
    "         0.15899337],\n",
    "       [ 0.26076848,  0.23664738,  0.08020603,  0.07001922,  0.1134371 ,\n",
    "         0.23892179],\n",
    "       [ 0.11943333,  0.29198961,  0.02605103,  0.26234032,  0.1351348 ,\n",
    "         0.16505091],\n",
    "       [ 0.09561176,  0.34396535,  0.0643941 ,  0.16240774,  0.24206137,\n",
    "         0.09155967]])\n",
    "```\n",
    "\n",
    "Running it through `sess.run(tf.nn.top_k(tf.constant(a), k=3))` produces:\n",
    "\n",
    "```\n",
    "TopKV2(values=array([[ 0.34763842,  0.24879643,  0.12789202],\n",
    "       [ 0.28086119,  0.27569815,  0.18063401],\n",
    "       [ 0.26076848,  0.23892179,  0.23664738],\n",
    "       [ 0.29198961,  0.26234032,  0.16505091],\n",
    "       [ 0.34396535,  0.24206137,  0.16240774]]), indices=array([[3, 0, 5],\n",
    "       [0, 1, 4],\n",
    "       [0, 5, 1],\n",
    "       [1, 3, 5],\n",
    "       [1, 4, 3]], dtype=int32))\n",
    "```\n",
    "\n",
    "Looking just at the first row we get `[ 0.34763842,  0.24879643,  0.12789202]`, you can confirm these are the 3 largest probabilities in `a`. You'll also notice `[3, 0, 5]` are the corresponding indices."
   ]
  },
  {
   "cell_type": "code",
   "execution_count": null,
   "metadata": {},
   "outputs": [],
   "source": [
    "### Print out the top five softmax probabilities for the predictions on the German traffic sign images found on the web. \n",
    "### Feel free to use as many code cells as needed.\n",
    "sess.run([tf.nn.top_k(tf.nn.softmax(logits), k=5)],\n",
    "         feed_dict={X: test_imgs, y: test_labels})"
   ]
  },
  {
   "cell_type": "markdown",
   "metadata": {},
   "source": [
    "### Project Writeup\n",
    "\n",
    "Once you have completed the code implementation, document your results in a project writeup using this [template](https://github.com/udacity/CarND-Traffic-Sign-Classifier-Project/blob/master/writeup_template.md) as a guide. The writeup can be in a markdown or pdf file. "
   ]
  },
  {
   "cell_type": "markdown",
   "metadata": {},
   "source": [
    "> **Note**: Once you have completed all of the code implementations and successfully answered each question above, you may finalize your work by exporting the iPython Notebook as an HTML document. You can do this by using the menu above and navigating to  \\n\",\n",
    "    \"**File -> Download as -> HTML (.html)**. Include the finished document along with this notebook as your submission."
   ]
  },
  {
   "cell_type": "markdown",
   "metadata": {},
   "source": [
    "---\n",
    "\n",
    "## Step 4 (Optional): Visualize the Neural Network's State with Test Images\n",
    "\n",
    " This Section is not required to complete but acts as an additional excersise for understaning the output of a neural network's weights. While neural networks can be a great learning device they are often referred to as a black box. We can understand what the weights of a neural network look like better by plotting their feature maps. After successfully training your neural network you can see what it's feature maps look like by plotting the output of the network's weight layers in response to a test stimuli image. From these plotted feature maps, it's possible to see what characteristics of an image the network finds interesting. For a sign, maybe the inner network feature maps react with high activation to the sign's boundary outline or to the contrast in the sign's painted symbol.\n",
    "\n",
    " Provided for you below is the function code that allows you to get the visualization output of any tensorflow weight layer you want. The inputs to the function should be a stimuli image, one used during training or a new one you provided, and then the tensorflow variable name that represents the layer's state during the training process, for instance if you wanted to see what the [LeNet lab's](https://classroom.udacity.com/nanodegrees/nd013/parts/fbf77062-5703-404e-b60c-95b78b2f3f9e/modules/6df7ae49-c61c-4bb2-a23e-6527e69209ec/lessons/601ae704-1035-4287-8b11-e2c2716217ad/concepts/d4aca031-508f-4e0b-b493-e7b706120f81) feature maps looked like for it's second convolutional layer you could enter conv2 as the tf_activation variable.\n",
    "\n",
    "For an example of what feature map outputs look like, check out NVIDIA's results in their paper [End-to-End Deep Learning for Self-Driving Cars](https://devblogs.nvidia.com/parallelforall/deep-learning-self-driving-cars/) in the section Visualization of internal CNN State. NVIDIA was able to show that their network's inner weights had high activations to road boundary lines by comparing feature maps from an image with a clear path to one without. Try experimenting with a similar test to show that your trained network's weights are looking for interesting features, whether it's looking at differences in feature maps from images with or without a sign, or even what feature maps look like in a trained network vs a completely untrained one on the same sign image.\n",
    "\n",
    "<figure>\n",
    " <img src=\"visualize_cnn.png\" width=\"380\" alt=\"Combined Image\" />\n",
    " <figcaption>\n",
    " <p></p> \n",
    " <p style=\"text-align: center;\"> Your output should look something like this (above)</p> \n",
    " </figcaption>\n",
    "</figure>\n",
    " <p></p> \n"
   ]
  },
  {
   "cell_type": "code",
   "execution_count": null,
   "metadata": {
    "collapsed": true
   },
   "outputs": [],
   "source": [
    "### Visualize your network's feature maps here.\n",
    "### Feel free to use as many code cells as needed.\n",
    "\n",
    "# image_input: the test image being fed into the network to produce the feature maps\n",
    "# tf_activation: should be a tf variable name used during your training procedure that represents the calculated state of a specific weight layer\n",
    "# activation_min/max: can be used to view the activation contrast in more detail, by default matplot sets min and max to the actual min and max values of the output\n",
    "# plt_num: used to plot out multiple different weight feature map sets on the same block, just extend the plt number for each new feature map entry\n",
    "\n",
    "def outputFeatureMap(image_input, tf_activation, activation_min=-1, activation_max=-1 ,plt_num=1):\n",
    "    # Here make sure to preprocess your image_input in a way your network expects\n",
    "    # with size, normalization, ect if needed\n",
    "    # image_input =\n",
    "    # Note: x should be the same name as your network's tensorflow data placeholder variable\n",
    "    # If you get an error tf_activation is not defined it may be having trouble accessing the variable from inside a function\n",
    "    activation = tf_activation.eval(session=sess,feed_dict={X : image_input})\n",
    "    featuremaps = activation.shape[3]\n",
    "    plt.figure(plt_num, figsize=(15,15))\n",
    "    for featuremap in range(featuremaps):\n",
    "        plt.subplot(6,8, featuremap+1) # sets the number of feature maps to show on each row and column\n",
    "        plt.title('FeatureMap ' + str(featuremap)) # displays the feature map number\n",
    "        if activation_min != -1 & activation_max != -1:\n",
    "            plt.imshow(activation[0,:,:, featuremap], interpolation=\"nearest\", vmin =activation_min, vmax=activation_max, cmap=\"gray\")\n",
    "        elif activation_max != -1:\n",
    "            plt.imshow(activation[0,:,:, featuremap], interpolation=\"nearest\", vmax=activation_max, cmap=\"gray\")\n",
    "        elif activation_min !=-1:\n",
    "            plt.imshow(activation[0,:,:, featuremap], interpolation=\"nearest\", vmin=activation_min, cmap=\"gray\")\n",
    "        else:\n",
    "            plt.imshow(activation[0,:,:, featuremap], interpolation=\"nearest\", cmap=\"gray\")"
   ]
  }
 ],
 "metadata": {
  "anaconda-cloud": {},
  "kernelspec": {
   "display_name": "Python 3",
   "language": "python",
   "name": "python3"
  },
  "language_info": {
   "codemirror_mode": {
    "name": "ipython",
    "version": 3
   },
   "file_extension": ".py",
   "mimetype": "text/x-python",
   "name": "python",
   "nbconvert_exporter": "python",
   "pygments_lexer": "ipython3",
   "version": "3.5.2"
  },
  "widgets": {
   "state": {},
   "version": "1.1.2"
  }
 },
 "nbformat": 4,
 "nbformat_minor": 1
}
